{
 "cells": [
  {
   "cell_type": "markdown",
   "metadata": {},
   "source": [
    "### Step 1. Download the MOMA dataset \n",
    "\n",
    "`gsutil cp gs://cs327e-open-access/moma.zip .`\n",
    "\n",
    "`unzip moma.zip`"
   ]
  },
  {
   "cell_type": "markdown",
   "metadata": {},
   "source": [
    "### Step 2. Import data into Mongo"
   ]
  },
  {
   "cell_type": "code",
   "execution_count": null,
   "metadata": {},
   "outputs": [],
   "source": [
    "!mongoimport --db moma --collection Artists < /home/jupyter/moma/Artists.json --jsonArray"
   ]
  },
  {
   "cell_type": "code",
   "execution_count": null,
   "metadata": {},
   "outputs": [],
   "source": [
    "!mongoimport --db moma --collection Artworks < /home/jupyter/moma/Artworks.json --jsonArray"
   ]
  },
  {
   "cell_type": "markdown",
   "metadata": {},
   "source": [
    "### Step 3. Run some simple document counts"
   ]
  },
  {
   "cell_type": "code",
   "execution_count": null,
   "metadata": {},
   "outputs": [],
   "source": [
    "!mongo moma --quiet --eval 'db.Artists.count()'"
   ]
  },
  {
   "cell_type": "code",
   "execution_count": null,
   "metadata": {},
   "outputs": [],
   "source": [
    "!mongo moma --quiet --eval 'db.Artists.count({\"Gender\": \"Male\"})'"
   ]
  },
  {
   "cell_type": "code",
   "execution_count": null,
   "metadata": {},
   "outputs": [],
   "source": [
    "!mongo moma --quiet --eval 'db.Artists.count({\"Gender\": \"Female\"})'"
   ]
  },
  {
   "cell_type": "code",
   "execution_count": null,
   "metadata": {},
   "outputs": [],
   "source": [
    "!mongo moma --quiet --eval 'db.Artworks.count()'"
   ]
  },
  {
   "cell_type": "markdown",
   "metadata": {},
   "source": [
    "### Step 4. Run queries that return one document"
   ]
  },
  {
   "cell_type": "code",
   "execution_count": null,
   "metadata": {},
   "outputs": [],
   "source": [
    "!mongo moma --quiet --eval 'db.Artists.findOne()'"
   ]
  },
  {
   "cell_type": "code",
   "execution_count": null,
   "metadata": {},
   "outputs": [],
   "source": [
    "!mongo moma --quiet --eval 'db.Artworks.findOne()'"
   ]
  },
  {
   "cell_type": "code",
   "execution_count": null,
   "metadata": {},
   "outputs": [],
   "source": [
    "!mongo moma --quiet --eval 'db.Artists.findOne({}, {\"ConstituentID\": 1, \"DisplayName\": 1, \"Nationality\": 1})'"
   ]
  },
  {
   "cell_type": "markdown",
   "metadata": {},
   "source": [
    "### Step 5: Run queries that return multiple documents"
   ]
  },
  {
   "cell_type": "code",
   "execution_count": null,
   "metadata": {},
   "outputs": [],
   "source": [
    "!mongo moma --quiet --eval 'db.Artists.find().limit(3).pretty()'"
   ]
  },
  {
   "cell_type": "code",
   "execution_count": null,
   "metadata": {},
   "outputs": [],
   "source": [
    "!mongo moma --quiet --eval 'db.Artists.find({Nationality: \"American\"}, {\"Wiki QID\": 0, ULAN: 0}).limit(3).pretty()'"
   ]
  },
  {
   "cell_type": "code",
   "execution_count": null,
   "metadata": {},
   "outputs": [],
   "source": [
    "!mongo moma --quiet --eval 'db.Artworks.find({ConstituentID: 6246}, {Artist: 1, Title: 1, Classification: 1, Date: 1}).sort({Date: -1}).limit(3).pretty()'"
   ]
  },
  {
   "cell_type": "code",
   "execution_count": null,
   "metadata": {},
   "outputs": [],
   "source": [
    "!mongo moma --quiet --eval 'db.Artworks.find({ConstituentID: 6246, Classification: \"Print\"}, {ConstituentID: 1, Classification: 1, Title: 1, Date: 1}).sort({Date: -1}).limit(3).pretty()'"
   ]
  },
  {
   "cell_type": "markdown",
   "metadata": {},
   "source": [
    "### Step 6: Run some range queries"
   ]
  },
  {
   "cell_type": "markdown",
   "metadata": {},
   "source": [
    "#### This query has a bug. Can you find it?"
   ]
  },
  {
   "cell_type": "code",
   "execution_count": null,
   "metadata": {},
   "outputs": [],
   "source": [
    "!mongo moma --quiet --eval 'db.Artists.find({BeginDate: {$gte: 1700}, BeginDate: {$lte: 1800}}).sort({BeginDate: 1}).limit(3).pretty()'"
   ]
  },
  {
   "cell_type": "code",
   "execution_count": null,
   "metadata": {},
   "outputs": [],
   "source": [
    "!mongo moma --quiet --eval 'db.Artists.find({BeginDate: {$gte: 1700, $lte: 1800}}).limit(3).pretty()'"
   ]
  },
  {
   "cell_type": "code",
   "execution_count": null,
   "metadata": {},
   "outputs": [],
   "source": [
    "!mongo moma --quiet --eval 'db.Artists.find({BeginDate: {$gte: 1700, $lte: 1800}, EndDate: {$gte: 1800, $lte: 1900}}).limit(3).pretty()'"
   ]
  },
  {
   "cell_type": "code",
   "execution_count": null,
   "metadata": {},
   "outputs": [],
   "source": [
    "!mongo moma --quiet --eval 'db.Artists.find({$or: [{Gender: \"Male\"}, {Gender: \"Female\"}, {Gender: null}]}, {Gender: 1, DisplayName: 1, Title: 1}).sort({Gender: 1}).limit(3).pretty()'"
   ]
  },
  {
   "cell_type": "code",
   "execution_count": null,
   "metadata": {},
   "outputs": [],
   "source": [
    "!mongo moma --quiet --eval 'db.Artworks.find({Artist: {$in: [\"Yoko Ono\", \"John Lennon\"]}}, {Artist:1, Title:1, Classification:1}).limit(3).pretty()'"
   ]
  },
  {
   "cell_type": "code",
   "execution_count": null,
   "metadata": {},
   "outputs": [],
   "source": [
    "!mongo moma --quiet --eval 'db.Artworks.find({Artist: {$all: [\"Yoko Ono\", \"John Lennon\"]}}, {Artist:1, Title:1, Classification:1}).limit(3).pretty()'"
   ]
  },
  {
   "cell_type": "code",
   "execution_count": null,
   "metadata": {},
   "outputs": [],
   "source": [
    "!mongo moma --quiet --eval 'db.Artworks.find({Artist: {$nin: [\"Yoko Ono\", \"John Lennon\"]}}, {Artist:1, Title:1, Classification:1}).limit(3).pretty()'"
   ]
  },
  {
   "cell_type": "markdown",
   "metadata": {},
   "source": [
    "### Step 7: distinct queries"
   ]
  },
  {
   "cell_type": "code",
   "execution_count": null,
   "metadata": {},
   "outputs": [],
   "source": [
    "!mongo moma --quiet --eval 'db.Artists.distinct(\"Gender\")'"
   ]
  },
  {
   "cell_type": "code",
   "execution_count": null,
   "metadata": {},
   "outputs": [],
   "source": [
    "!mongo moma --quiet --eval 'db.Artists.distinct(\"Gender\", {Nationality: \"Indian\"})'"
   ]
  },
  {
   "cell_type": "code",
   "execution_count": null,
   "metadata": {},
   "outputs": [],
   "source": [
    "!mongo moma --quiet --eval 'db.Artists.distinct(\"Gender\", {$or: [{Nationality: \"American\", BeginDate: 1990}]})'"
   ]
  },
  {
   "cell_type": "markdown",
   "metadata": {},
   "source": [
    "### Step 8: Create, update, and remove documents"
   ]
  },
  {
   "cell_type": "code",
   "execution_count": null,
   "metadata": {},
   "outputs": [],
   "source": [
    "wilt = '{DisplayName: \"Kami Wilt\", Nationality: \"American\", Gender: \"Female\", ArtistBio: \"American, 1975-\", BeginDate: 1975, EndDate: null}'"
   ]
  },
  {
   "cell_type": "code",
   "execution_count": null,
   "metadata": {},
   "outputs": [],
   "source": [
    "roberts = '{DisplayName: \"Carol Roberts\", Nationality: \"American\", Gender: \"Female\", ArtistBio: \"American, 1965-\", BeginDate: 1965, EndDate: null}'"
   ]
  },
  {
   "cell_type": "code",
   "execution_count": null,
   "metadata": {},
   "outputs": [],
   "source": [
    "!mongo moma --quiet --eval 'db.Artists.insert({wilt})'"
   ]
  },
  {
   "cell_type": "code",
   "execution_count": null,
   "metadata": {},
   "outputs": [],
   "source": [
    "!mongo moma --quiet --eval 'db.Artists.insert({roberts})'"
   ]
  },
  {
   "cell_type": "code",
   "execution_count": null,
   "metadata": {},
   "outputs": [],
   "source": [
    "!mongo moma --quiet --eval 'db.Artists.find({DisplayName: {$in: [\"Kami Wilt\", \"Carol Roberts\"]}})'"
   ]
  },
  {
   "cell_type": "code",
   "execution_count": null,
   "metadata": {},
   "outputs": [],
   "source": [
    "!mongo moma --quiet --eval 'db.Artists.update({DisplayName: \"Kami Wilt\"}, {DisplayName: \"Kami Wilt\", ConstituentID: 16000})'"
   ]
  },
  {
   "cell_type": "code",
   "execution_count": null,
   "metadata": {},
   "outputs": [],
   "source": [
    "!mongo moma --quiet --eval 'db.Artists.update({DisplayName: \"Carol Roberts\"}, {$set: {\"Residence\": \"Austin, TX\"}}, false, true)'"
   ]
  },
  {
   "cell_type": "markdown",
   "metadata": {},
   "source": [
    "#### Note: second update command replaces attributes rather than entire document. 3rd param == upsert, 4th param == multi. "
   ]
  },
  {
   "cell_type": "code",
   "execution_count": null,
   "metadata": {},
   "outputs": [],
   "source": [
    "!mongo moma --quiet --eval 'db.Artists.find({DisplayName: \"Kami Wilt\"})'"
   ]
  },
  {
   "cell_type": "code",
   "execution_count": null,
   "metadata": {},
   "outputs": [],
   "source": [
    "!mongo moma --quiet --eval 'db.Artists.find({DisplayName: \"Carol Roberts\"})'"
   ]
  },
  {
   "cell_type": "code",
   "execution_count": null,
   "metadata": {},
   "outputs": [],
   "source": [
    "!mongo moma --quiet --eval 'db.Artists.remove({DisplayName: \"Kami Wilt\"})'"
   ]
  },
  {
   "cell_type": "code",
   "execution_count": null,
   "metadata": {},
   "outputs": [],
   "source": [
    "!mongo moma --quiet --eval 'db.Artists.find({DisplayName: \"Kami Wilt\"})'"
   ]
  },
  {
   "cell_type": "code",
   "execution_count": null,
   "metadata": {},
   "outputs": [],
   "source": [
    "!mongo moma --quiet --eval 'db.Artists.remove({DisplayName: \"Carol Roberts\", Residence: \"Austin, TX\"})'"
   ]
  },
  {
   "cell_type": "code",
   "execution_count": null,
   "metadata": {},
   "outputs": [],
   "source": [
    "!mongo moma --quiet --eval 'db.Artists.find({DisplayName: \"Carol Roberts\"})'"
   ]
  },
  {
   "cell_type": "code",
   "execution_count": null,
   "metadata": {},
   "outputs": [],
   "source": []
  }
 ],
 "metadata": {
  "environment": {
   "name": "common-cpu.mnightly-2021-01-20-debian-10-test",
   "type": "gcloud",
   "uri": "gcr.io/deeplearning-platform-release/base-cpu:mnightly-2021-01-20-debian-10-test"
  },
  "kernelspec": {
   "display_name": "Python 3",
   "language": "python",
   "name": "python3"
  },
  "language_info": {
   "codemirror_mode": {
    "name": "ipython",
    "version": 3
   },
   "file_extension": ".py",
   "mimetype": "text/x-python",
   "name": "python",
   "nbconvert_exporter": "python",
   "pygments_lexer": "ipython3",
   "version": "3.7.9"
  }
 },
 "nbformat": 4,
 "nbformat_minor": 4
}
