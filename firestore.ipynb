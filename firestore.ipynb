{
 "cells": [
  {
   "cell_type": "markdown",
   "metadata": {},
   "source": [
    "### Step 1. Download the college normalized dataset:\n",
    "#### gsutil cp gs://cs327e-open-access/college_normalized.zip .\n",
    "#### unzip college_normalized.zip"
   ]
  },
  {
   "cell_type": "markdown",
   "metadata": {},
   "source": [
    "### Step 2: Run code samples in sequence to populate Firestore database"
   ]
  },
  {
   "cell_type": "code",
   "execution_count": 1,
   "metadata": {},
   "outputs": [],
   "source": [
    "import pandas as pd\n",
    "from google.cloud import firestore\n",
    "db = firestore.Client()"
   ]
  },
  {
   "cell_type": "code",
   "execution_count": 2,
   "metadata": {},
   "outputs": [
    {
     "data": {
      "text/plain": [
       "[update_time {\n",
       "   seconds: 1614989409\n",
       "   nanos: 101582000\n",
       " },\n",
       " update_time {\n",
       "   seconds: 1614989409\n",
       "   nanos: 101582000\n",
       " },\n",
       " update_time {\n",
       "   seconds: 1614989409\n",
       "   nanos: 101582000\n",
       " },\n",
       " update_time {\n",
       "   seconds: 1614989409\n",
       "   nanos: 101582000\n",
       " },\n",
       " update_time {\n",
       "   seconds: 1614989409\n",
       "   nanos: 101582000\n",
       " },\n",
       " update_time {\n",
       "   seconds: 1614989409\n",
       "   nanos: 101582000\n",
       " },\n",
       " update_time {\n",
       "   seconds: 1614989409\n",
       "   nanos: 101582000\n",
       " },\n",
       " update_time {\n",
       "   seconds: 1614989409\n",
       "   nanos: 101582000\n",
       " },\n",
       " update_time {\n",
       "   seconds: 1614989409\n",
       "   nanos: 101582000\n",
       " },\n",
       " update_time {\n",
       "   seconds: 1614989409\n",
       "   nanos: 101582000\n",
       " },\n",
       " update_time {\n",
       "   seconds: 1615046007\n",
       "   nanos: 865656000\n",
       " }]"
      ]
     },
     "execution_count": 2,
     "metadata": {},
     "output_type": "execute_result"
    }
   ],
   "source": [
    "batch = db.batch()\n",
    "\n",
    "df = pd.read_csv('/home/jupyter/college_normalized/class.csv', sep=',', header=0, lineterminator='\\n')\n",
    "rows = df.values.tolist()\n",
    "\n",
    "for row in rows:\n",
    "    \n",
    "    record = {}\n",
    "    record['cno'] = row[0]\n",
    "    record['cname'] = row[1]\n",
    "    record['credits'] = row[2]\n",
    "    \n",
    "    class_ref = db.collection('class').document(row[0])\n",
    "    \n",
    "    batch.set(class_ref, record)\n",
    "    \n",
    "batch.commit()"
   ]
  },
  {
   "cell_type": "code",
   "execution_count": 3,
   "metadata": {},
   "outputs": [],
   "source": [
    "batch = db.batch()\n",
    "\n",
    "df = pd.read_csv('/home/jupyter/college_normalized/student.csv', sep=',', header=0, lineterminator='\\n')\n",
    "student_rows = df.values.tolist()\n",
    "\n",
    "df = pd.read_csv('/home/jupyter/college_normalized/takes.csv', sep=',', header=0, lineterminator='\\n')\n",
    "takes_rows = df.values.tolist()\n",
    "\n",
    "for student_row in student_rows:\n",
    "    \n",
    "    student_record = {}\n",
    "    student_record['sid'] = student_row[0]\n",
    "    student_record['fname'] = student_row[1]\n",
    "    student_record['lname'] = student_row[2]\n",
    "    student_record['dob'] = student_row[3]\n",
    "    student_record['status'] = student_row[4]\n",
    "    \n",
    "    student_ref = db.collection('student').document(student_row[0])\n",
    "    \n",
    "    batch.set(student_ref, student_record)\n",
    "    \n",
    "    for takes_row in takes_rows:\n",
    "        if student_row[0] == takes_row[0]:\n",
    "            \n",
    "            class_record = {}\n",
    "            class_record['cno'] = takes_row[1]\n",
    "            class_record['cname'] = takes_row[2]\n",
    "            class_record['credits'] = takes_row[3]\n",
    "            class_record['grade'] = takes_row[4]\n",
    "            \n",
    "            classes_ref = student_ref.collection('classes').document(takes_row[1])\n",
    "        \n",
    "            batch.set(classes_ref, class_record)\n",
    "    \n",
    "    \n",
    "    batch.commit()\n",
    "    "
   ]
  },
  {
   "cell_type": "code",
   "execution_count": 4,
   "metadata": {},
   "outputs": [],
   "source": [
    "batch = db.batch()\n",
    "\n",
    "df = pd.read_csv('/home/jupyter/college_normalized/instructor.csv', sep=',', header=0, lineterminator='\\n')\n",
    "instructor_rows = df.values.tolist()\n",
    "\n",
    "df = pd.read_csv('/home/jupyter/college_normalized/teaches.csv', sep=',', header=0, lineterminator='\\n')\n",
    "teaches_rows = df.values.tolist()\n",
    "\n",
    "for instructor_row in instructor_rows:\n",
    "    \n",
    "    instructor_record = {}\n",
    "    instructor_record['tid'] = instructor_row[0]\n",
    "    instructor_record['instructor_name'] = instructor_row[1]\n",
    "    instructor_record['dept'] = instructor_row[2]\n",
    "    \n",
    "    instructor_ref = db.collection('instructor').document(instructor_row[0])\n",
    "    \n",
    "    batch.set(instructor_ref, instructor_record)\n",
    "    \n",
    "    for teaches_row in teaches_rows:\n",
    "        \n",
    "        if instructor_row[0] == teaches_row[0]:\n",
    "            \n",
    "            class_record = {}\n",
    "            class_record['cno'] = teaches_row[1]\n",
    "            class_record['cname'] = teaches_row[2]\n",
    "            class_record['credits'] = teaches_row[3]\n",
    "            \n",
    "            classes_ref = instructor_ref.collection('classes').document(teaches_row[1])\n",
    "        \n",
    "            batch.set(classes_ref, class_record)\n",
    "    \n",
    "    batch.commit()"
   ]
  },
  {
   "cell_type": "markdown",
   "metadata": {},
   "source": [
    "### Step 3: Run some queries"
   ]
  },
  {
   "cell_type": "code",
   "execution_count": 5,
   "metadata": {},
   "outputs": [
    {
     "name": "stdout",
     "output_type": "stream",
     "text": [
      "paulg => {'lname': 'Gore', 'sid': 'paulg', 'fname': 'Paul', 'status': 'CUR', 'dob': '2000-09-17'}\n"
     ]
    }
   ],
   "source": [
    "student_ref = db.collection('student').document('paulg')\n",
    "result = student_ref.get()\n",
    "\n",
    "if result.exists:\n",
    "    print(f'{result.id} => {result.to_dict()}')\n",
    "else:\n",
    "    print('No such student')"
   ]
  },
  {
   "cell_type": "code",
   "execution_count": 6,
   "metadata": {},
   "outputs": [
    {
     "name": "stdout",
     "output_type": "stream",
     "text": [
      "aprilz => {'dob': '2000-10-01', 'sid': 'aprilz', 'fname': 'April', 'status': 'CUR', 'lname': 'Lopez'}\n",
      "bzen26 => {'dob': '1998-04-22', 'lname': 'Zen', 'sid': 'bzen26', 'status': 'CUR', 'fname': 'Biswa'}\n",
      "jc => {'status': 'CUR', 'sid': 'jc', 'lname': 'Cowe', 'dob': '2000-04-22', 'fname': 'James'}\n",
      "jerryh => {'dob': '1999-01-03', 'fname': 'Jerry', 'status': 'CUR', 'lname': 'Hargrove', 'sid': 'jerryh'}\n",
      "kev18 => {'sid': 'kev18', 'fname': 'Kevin', 'dob': '1999-10-05', 'lname': 'Lin', 'status': 'CUR'}\n",
      "paulg => {'status': 'CUR', 'lname': 'Gore', 'dob': '2000-09-17', 'sid': 'paulg', 'fname': 'Paul'}\n",
      "sudeepa4 => {'fname': 'Sudeepa', 'sid': 'sudeepa4', 'status': 'CUR', 'lname': 'Roy', 'dob': '2001-10-01'}\n"
     ]
    }
   ],
   "source": [
    "student_ref = db.collection('student')\n",
    "query = student_ref.where('status', '==', 'CUR')\n",
    "results = query.stream()\n",
    "\n",
    "for result in results:\n",
    "    print(f'{result.id} => {result.to_dict()}')"
   ]
  },
  {
   "cell_type": "code",
   "execution_count": 7,
   "metadata": {},
   "outputs": [
    {
     "name": "stdout",
     "output_type": "stream",
     "text": [
      "CS313E => {'cno': 'CS313E', 'credits': 3, 'cname': 'Elements of Software Engineering'}\n",
      "CS329E => {'cname': 'Elements of Web Programming', 'credits': 3, 'cno': 'CS329E'}\n"
     ]
    }
   ],
   "source": [
    "query = db.collection('instructor').document('mitra').collection('classes')\n",
    "\n",
    "results = query.stream()\n",
    "\n",
    "for result in results:\n",
    "    print(f'{result.id} => {result.to_dict()}')"
   ]
  },
  {
   "cell_type": "code",
   "execution_count": 8,
   "metadata": {},
   "outputs": [
    {
     "name": "stdout",
     "output_type": "stream",
     "text": [
      "CS303E => {'cname': 'Elements of Computers and Programming', 'cno': 'CS303E', 'credits': 3}\n",
      "CS326E => {'credits': 3, 'cname': 'Elements of Networking', 'cno': 'CS326E'}\n",
      "CS347 => {'cname': 'Data Management', 'cno': 'CS347', 'credits': 3}\n",
      "CS373 => {'cname': 'Software Engineering', 'cno': 'CS373', 'credits': 3}\n",
      "CS331E => {'cno': 'CS331E', 'credits': 3, 'cname': 'Elements of Software Engineering II'}\n",
      "M328K => {'credits': 3, 'cname': 'Intro to Number Theory', 'cno': 'M328K'}\n",
      "CS313E => {'credits': 3, 'cno': 'CS313E', 'cname': 'Elements of Software Engineering'}\n",
      "CS329E => {'cno': 'CS329E', 'cname': 'Elements of Web Programming', 'credits': 3}\n",
      "M362K => {'cname': 'Probability I', 'cno': 'M362K', 'credits': 3}\n",
      "M362K => {'credits': 3, 'cname': 'Probability I', 'cno': 'M362K'}\n",
      "CS327E => {'credits': 3, 'cname': 'Elements of Databases', 'cno': 'CS327E'}\n",
      "M358K => {'credits': 3, 'cname': 'Applied Statistics', 'cno': 'M358K'}\n",
      "CS373 => {'cname': 'Software Engineering', 'grade': 'B+', 'cno': 'CS373', 'credits': 3}\n",
      "M358K => {'cname': 'Applied Statistics', 'grade': 'A-', 'credits': 3, 'cno': 'M358K'}\n",
      "CS313E => {'cno': 'CS313E', 'cname': 'Elements of Software Engineering', 'grade': 'B+', 'credits': 3}\n",
      "CS313E => {'grade': 'B', 'cname': 'Elements of Software Engineering II', 'cno': 'CS313E', 'credits': 3}\n",
      "CS327E => {'cno': 'CS327E', 'cname': 'Elements of Databases', 'grade': 'B', 'credits': 3}\n",
      "CS331E => {'cname': 'Elements of Software Engineering II', 'grade': 'A-', 'cno': 'CS331E', 'credits': 3}\n",
      "CS327E => {'grade': 'B ', 'cno': 'CS327E', 'cname': 'Elements of Databases', 'credits': 3}\n",
      "CS329E => {'cname': 'Elements of Web Programming', 'grade': 'A-', 'credits': 3, 'cno': 'CS329E'}\n",
      "CS329E => {'grade': 'A', 'cname': 'Elements of Web Programming', 'credits': 3, 'cno': 'CS329E'}\n",
      "CS347 => {'cno': 'CS347', 'grade': 'C+', 'credits': 3, 'cname': 'Data Management'}\n",
      "M362K => {'cno': 'M362K', 'cname': 'Probability I', 'grade': 'A', 'credits': 3}\n",
      "CS313E => {'cname': 'Elements of Software Engineering', 'credits': 3, 'grade': 'A', 'cno': 'CS313E'}\n",
      "CS326E => {'cno': 'CS326E', 'grade': 'A-', 'cname': 'Elements of Networking', 'credits': 3}\n",
      "CS329E => {'credits': 3, 'grade': 'A', 'cname': 'Elements of Web Programming', 'cno': 'CS329E'}\n",
      "CS303E => {'credits': 3, 'cname': 'Elements of Computers and Programming', 'cno': 'CS303E', 'grade': 'B'}\n",
      "M328K => {'cno': 'M328K', 'cname': 'Intro to Number Theory', 'credits': 3, 'grade': 'B'}\n"
     ]
    }
   ],
   "source": [
    "classes = db.collection_group('classes').where('credits', '==', 3)\n",
    "docs = classes.stream()\n",
    "for doc in docs:\n",
    "    print(f'{doc.id} => {doc.to_dict()}')"
   ]
  },
  {
   "cell_type": "code",
   "execution_count": 9,
   "metadata": {},
   "outputs": [
    {
     "name": "stdout",
     "output_type": "stream",
     "text": [
      "bulko => {'tid': 'bulko', 'dept': 'Computer Science', 'instructor_name': 'Bill Bulko'}\n",
      "CS303E => {'credits': 3, 'cname': 'Elements of Computers and Programming', 'cno': 'CS303E'}\n",
      "cannata => {'tid': 'cannata', 'dept': 'Computer Science', 'instructor_name': 'Phil Cannata'}\n",
      "CS326E => {'credits': 3, 'cno': 'CS326E', 'cname': 'Elements of Networking'}\n",
      "CS347 => {'credits': 3, 'cname': 'Data Management', 'cno': 'CS347'}\n",
      "downing => {'instructor_name': 'Glenn Downing', 'tid': 'downing', 'dept': 'Computer Science'}\n",
      "CS373 => {'cname': 'Software Engineering', 'cno': 'CS373', 'credits': 3}\n",
      "fares => {'tid': 'fares', 'dept': 'Computer Science', 'instructor_name': 'Fares Fraij'}\n",
      "CS331E => {'cno': 'CS331E', 'cname': 'Elements of Software Engineering II', 'credits': 3}\n",
      "koch => {'instructor_name': 'Hans Koch', 'dept': 'Mathematics', 'tid': 'koch'}\n",
      "M328K => {'credits': 3, 'cname': 'Intro to Number Theory', 'cno': 'M328K'}\n",
      "mitra => {'dept': 'Computer Science', 'instructor_name': 'Shyamal Mitra', 'tid': 'mitra'}\n",
      "CS313E => {'credits': 3, 'cno': 'CS313E', 'cname': 'Elements of Software Engineering'}\n",
      "CS329E => {'credits': 3, 'cname': 'Elements of Web Programming', 'cno': 'CS329E'}\n",
      "mueller => {'instructor_name': 'Peter Mueller', 'dept': 'Mathematics', 'tid': 'mueller'}\n",
      "M362K => {'cno': 'M362K', 'credits': 3, 'cname': 'Probability I'}\n",
      "neeman => {'dept': 'Mathematics', 'instructor_name': 'Joe Neeman', 'tid': 'neeman'}\n",
      "M362K => {'cname': 'Probability I', 'cno': 'M362K', 'credits': 3}\n",
      "scohen => {'instructor_name': 'Shirley Cohen', 'dept': 'Computer Science', 'tid': 'scohen'}\n",
      "CS327E => {'credits': 3, 'cname': 'Elements of Databases', 'cno': 'CS327E'}\n",
      "tran => {'instructor_name': 'Ngoc Tran', 'dept': 'Mathematics', 'tid': 'tran'}\n",
      "M358K => {'credits': 3, 'cname': 'Applied Statistics', 'cno': 'M358K'}\n"
     ]
    }
   ],
   "source": [
    "instructor_ref = db.collection('instructor')\n",
    "results = instructor_ref.stream()\n",
    "\n",
    "for result in results:\n",
    "    print(f'{result.id} => {result.to_dict()}')\n",
    "    sresults = instructor_ref.document(result.id).collection('classes').stream()\n",
    "    \n",
    "    for sresult in sresults:\n",
    "        print(f'{sresult.id} => {sresult.to_dict()}')"
   ]
  },
  {
   "cell_type": "code",
   "execution_count": null,
   "metadata": {},
   "outputs": [],
   "source": []
  }
 ],
 "metadata": {
  "environment": {
   "name": "common-cpu.mnightly-2021-01-20-debian-10-test",
   "type": "gcloud",
   "uri": "gcr.io/deeplearning-platform-release/base-cpu:mnightly-2021-01-20-debian-10-test"
  },
  "kernelspec": {
   "display_name": "Python 3",
   "language": "python",
   "name": "python3"
  },
  "language_info": {
   "codemirror_mode": {
    "name": "ipython",
    "version": 3
   },
   "file_extension": ".py",
   "mimetype": "text/x-python",
   "name": "python",
   "nbconvert_exporter": "python",
   "pygments_lexer": "ipython3",
   "version": "3.7.9"
  }
 },
 "nbformat": 4,
 "nbformat_minor": 4
}
