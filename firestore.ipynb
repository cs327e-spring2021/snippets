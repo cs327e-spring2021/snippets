{
 "cells": [
  {
   "cell_type": "markdown",
   "metadata": {},
   "source": [
    "### Step 1. Download the college normalized dataset:\n",
    "#### gsutil cp gs://cs327e-open-access/college_normalized.zip .\n",
    "#### unzip college_normalized.zip"
   ]
  },
  {
   "cell_type": "markdown",
   "metadata": {},
   "source": [
    "### Step 2: Run code samples in sequence to populate Firestore database"
   ]
  },
  {
   "cell_type": "code",
   "execution_count": 1,
   "metadata": {},
   "outputs": [],
   "source": [
    "import pandas as pd\n",
    "from google.cloud import firestore\n",
    "db = firestore.Client()"
   ]
  },
  {
   "cell_type": "code",
   "execution_count": 3,
   "metadata": {},
   "outputs": [
    {
     "data": {
      "text/plain": [
       "[update_time {\n",
       "   seconds: 1614976973\n",
       "   nanos: 28770000\n",
       " },\n",
       " update_time {\n",
       "   seconds: 1614976973\n",
       "   nanos: 28770000\n",
       " },\n",
       " update_time {\n",
       "   seconds: 1614976973\n",
       "   nanos: 28770000\n",
       " },\n",
       " update_time {\n",
       "   seconds: 1614976973\n",
       "   nanos: 28770000\n",
       " },\n",
       " update_time {\n",
       "   seconds: 1614976973\n",
       "   nanos: 28770000\n",
       " },\n",
       " update_time {\n",
       "   seconds: 1614976973\n",
       "   nanos: 28770000\n",
       " },\n",
       " update_time {\n",
       "   seconds: 1614976973\n",
       "   nanos: 28770000\n",
       " },\n",
       " update_time {\n",
       "   seconds: 1614976973\n",
       "   nanos: 28770000\n",
       " },\n",
       " update_time {\n",
       "   seconds: 1614976973\n",
       "   nanos: 28770000\n",
       " }]"
      ]
     },
     "execution_count": 3,
     "metadata": {},
     "output_type": "execute_result"
    }
   ],
   "source": [
    "batch = db.batch()\n",
    "\n",
    "df = pd.read_csv('/home/jupyter/college_normalized/class.csv', sep=',', header=1, lineterminator='\\n')\n",
    "rows = df.values.tolist()\n",
    "\n",
    "for row in rows:\n",
    "    \n",
    "    record = {}\n",
    "    record['cno'] = row[0]\n",
    "    record['cname'] = row[1]\n",
    "    record['credits'] = row[2]\n",
    "    \n",
    "    class_ref = db.collection('class').document(row[0])\n",
    "    \n",
    "    batch.set(class_ref, record)\n",
    "    \n",
    "batch.commit()"
   ]
  },
  {
   "cell_type": "code",
   "execution_count": 4,
   "metadata": {},
   "outputs": [],
   "source": [
    "batch = db.batch()\n",
    "\n",
    "df = pd.read_csv('/home/jupyter/college_normalized/student.csv', sep=',', header=0, lineterminator='\\n')\n",
    "student_rows = df.values.tolist()\n",
    "\n",
    "df = pd.read_csv('/home/jupyter/college_normalized/takes.csv', sep=',', header=0, lineterminator='\\n')\n",
    "takes_rows = df.values.tolist()\n",
    "\n",
    "for student_row in student_rows:\n",
    "    \n",
    "    student_record = {}\n",
    "    student_record['sid'] = student_row[0]\n",
    "    student_record['fname'] = student_row[1]\n",
    "    student_record['lname'] = student_row[2]\n",
    "    student_record['dob'] = student_row[3]\n",
    "    student_record['status'] = student_row[4]\n",
    "    \n",
    "    student_ref = db.collection('student').document(student_row[0])\n",
    "    \n",
    "    batch.set(student_ref, student_record)\n",
    "    \n",
    "    for takes_row in takes_rows:\n",
    "        if student_row[0] == takes_row[0]:\n",
    "            \n",
    "            class_record = {}\n",
    "            class_record['cno'] = takes_row[1]\n",
    "            class_record['grade'] = takes_row[2]\n",
    "            \n",
    "            classes_ref = student_ref.collection('classes').document(takes_row[1])\n",
    "        \n",
    "            batch.set(classes_ref, class_record)\n",
    "    \n",
    "    \n",
    "    batch.commit()\n",
    "    "
   ]
  },
  {
   "cell_type": "code",
   "execution_count": 8,
   "metadata": {},
   "outputs": [],
   "source": [
    "batch = db.batch()\n",
    "\n",
    "df = pd.read_csv('/home/jupyter/college_normalized/instructor.csv', sep=',', header=0, lineterminator='\\n')\n",
    "instructor_rows = df.values.tolist()\n",
    "\n",
    "df = pd.read_csv('/home/jupyter/college_normalized/teaches.csv', sep=',', header=0, lineterminator='\\n')\n",
    "teaches_rows = df.values.tolist()\n",
    "\n",
    "for instructor_row in instructor_rows:\n",
    "    \n",
    "    instructor_record = {}\n",
    "    instructor_record['tid'] = instructor_row[0]\n",
    "    instructor_record['instructor_name'] = instructor_row[1]\n",
    "    instructor_record['dept'] = instructor_row[2]\n",
    "    \n",
    "    instructor_ref = db.collection('instructor').document(instructor_row[0])\n",
    "    \n",
    "    batch.set(instructor_ref, instructor_record)\n",
    "    \n",
    "    for teaches_row in teaches_rows:\n",
    "        \n",
    "        if instructor_row[0] == teaches_row[0]:\n",
    "            \n",
    "            class_record = {}\n",
    "            class_record['cno'] = teaches_row[1]\n",
    "            class_record['cname'] = teaches_row[2]\n",
    "            class_record['credits'] = teaches_row[3]\n",
    "            \n",
    "            classes_ref = instructor_ref.collection('classes').document(teaches_row[1])\n",
    "        \n",
    "            batch.set(classes_ref, class_record)\n",
    "    \n",
    "    batch.commit()"
   ]
  },
  {
   "cell_type": "markdown",
   "metadata": {},
   "source": [
    "### Step 3: Run some queries"
   ]
  },
  {
   "cell_type": "code",
   "execution_count": 9,
   "metadata": {},
   "outputs": [
    {
     "name": "stdout",
     "output_type": "stream",
     "text": [
      "paulg => {'fname': 'Paul', 'status': 'CUR', 'lname': 'Gore', 'sid': 'paulg', 'dob': '2000-09-17'}\n"
     ]
    }
   ],
   "source": [
    "student_ref = db.collection('student').document('paulg')\n",
    "result = student_ref.get()\n",
    "\n",
    "if result.exists:\n",
    "    print(f'{result.id} => {result.to_dict()}')\n",
    "else:\n",
    "    print('No such student')"
   ]
  },
  {
   "cell_type": "code",
   "execution_count": 10,
   "metadata": {},
   "outputs": [
    {
     "name": "stdout",
     "output_type": "stream",
     "text": [
      "aprilz => {'fname': 'April', 'dob': '2000-10-01', 'sid': 'aprilz', 'lname': 'Lopez', 'status': 'CUR'}\n",
      "bzen26 => {'dob': '1998-04-22', 'fname': 'Biswa', 'sid': 'bzen26', 'lname': 'Zen', 'status': 'CUR'}\n",
      "jc => {'fname': 'James', 'dob': '2000-04-22', 'status': 'CUR', 'sid': 'jc', 'lname': 'Cowe'}\n",
      "jerryh => {'lname': 'Hargrove', 'dob': '1999-01-03', 'fname': 'Jerry', 'status': 'CUR', 'sid': 'jerryh'}\n",
      "paulg => {'sid': 'paulg', 'dob': '2000-09-17', 'status': 'CUR', 'fname': 'Paul', 'lname': 'Gore'}\n",
      "sudeepa4 => {'dob': '2001-10-01', 'sid': 'sudeepa4', 'lname': 'Roy', 'status': 'CUR', 'fname': 'Sudeepa'}\n"
     ]
    }
   ],
   "source": [
    "student_ref = db.collection('student')\n",
    "query = student_ref.where('status', '==', 'CUR')\n",
    "results = query.stream()\n",
    "\n",
    "for result in results:\n",
    "    print(f'{result.id} => {result.to_dict()}')"
   ]
  },
  {
   "cell_type": "code",
   "execution_count": 13,
   "metadata": {},
   "outputs": [
    {
     "name": "stdout",
     "output_type": "stream",
     "text": [
      "CS313E => {'cno': 'CS313E', 'credits': 3, 'cname': 'Elements of Software Engineering'}\n",
      "CS329E => {'credits': 3, 'cno': 'CS329E', 'cname': 'Elements of Web Programming'}\n"
     ]
    }
   ],
   "source": [
    "query = db.collection('instructor').document('mitra').collection('classes')\n",
    "\n",
    "results = query.stream()\n",
    "\n",
    "for result in results:\n",
    "    print(f'{result.id} => {result.to_dict()}')"
   ]
  },
  {
   "cell_type": "code",
   "execution_count": 16,
   "metadata": {},
   "outputs": [
    {
     "name": "stdout",
     "output_type": "stream",
     "text": [
      "CS303E => {'cno': 'CS303E', 'credits': 3, 'cname': 'Elements of Computers and Programming'}\n",
      "CS326E => {'cno': 'CS326E', 'credits': 3, 'cname': 'Elements of Networking'}\n",
      "CS347 => {'cno': 'CS347', 'cname': 'Data Management', 'credits': 3}\n",
      "CS373 => {'credits': 3, 'cno': 'CS373', 'cname': 'Software Engineering'}\n",
      "CS331E => {'cno': 'CS331E', 'credits': 3, 'cname': 'Elements of Software Engineering II'}\n",
      "M328K => {'cno': 'M328K', 'credits': 3, 'cname': 'Intro to Number Theory'}\n",
      "CS313E => {'cname': 'Elements of Software Engineering', 'credits': 3, 'cno': 'CS313E'}\n",
      "CS329E => {'cname': 'Elements of Web Programming', 'cno': 'CS329E', 'credits': 3}\n",
      "M362K => {'cname': 'Probability I', 'credits': 3, 'cno': 'M362K'}\n",
      "M362K => {'cname': 'Probability I', 'cno': 'M362K', 'credits': 3}\n",
      "CS327E => {'cno': 'CS327E', 'cname': 'Elements of Databases', 'credits': 3}\n",
      "M358K => {'credits': 3, 'cno': 'M358K', 'cname': 'Applied Statistics'}\n"
     ]
    }
   ],
   "source": [
    "classes = db.collection_group('classes').where('credits', '==', 3)\n",
    "docs = classes.stream()\n",
    "for doc in docs:\n",
    "    print(f'{doc.id} => {doc.to_dict()}')"
   ]
  },
  {
   "cell_type": "code",
   "execution_count": 18,
   "metadata": {},
   "outputs": [
    {
     "name": "stdout",
     "output_type": "stream",
     "text": [
      "bulko => {'tid': 'bulko', 'instructor_name': 'Bill Bulko', 'dept': 'Computer Science'}\n",
      "CS303E => {'cno': 'CS303E', 'credits': 3, 'cname': 'Elements of Computers and Programming'}\n",
      "cannata => {'tid': 'cannata', 'instructor_name': 'Phil Cannata', 'dept': 'Computer Science'}\n",
      "CS326E => {'credits': 3, 'cname': 'Elements of Networking', 'cno': 'CS326E'}\n",
      "CS347 => {'cname': 'Data Management', 'credits': 3, 'cno': 'CS347'}\n",
      "CS347  => {'cno': 'CS347 '}\n",
      "downing => {'tid': 'downing', 'instructor_name': 'Glenn Downing', 'dept': 'Computer Science'}\n",
      "CS373 => {'credits': 3, 'cname': 'Software Engineering', 'cno': 'CS373'}\n",
      "CS373  => {'cno': 'CS373 '}\n",
      "fares => {'dept': 'Computer Science', 'tid': 'fares', 'instructor_name': 'Fares Fraij'}\n",
      "CS331E => {'credits': 3, 'cno': 'CS331E', 'cname': 'Elements of Software Engineering II'}\n",
      "koch => {'instructor_name': 'Hans Koch', 'dept': 'Mathematics', 'tid': 'koch'}\n",
      "M328K => {'cno': 'M328K', 'cname': 'Intro to Number Theory', 'credits': 3}\n",
      "M328K  => {'cno': 'M328K '}\n",
      "mitra => {'tid': 'mitra', 'instructor_name': 'Shyamal Mitra', 'dept': 'Computer Science'}\n",
      "CS313E => {'cname': 'Elements of Software Engineering', 'credits': 3, 'cno': 'CS313E'}\n",
      "CS329E => {'cname': 'Elements of Web Programming', 'cno': 'CS329E', 'credits': 3}\n",
      "mueller => {'dept': 'Mathematics', 'tid': 'mueller', 'instructor_name': 'Peter Mueller'}\n",
      "M362K => {'credits': 3, 'cname': 'Probability I', 'cno': 'M362K'}\n",
      "M362K  => {'cno': 'M362K '}\n",
      "neeman => {'dept': 'Mathematics', 'tid': 'neeman', 'instructor_name': 'Joe Neeman'}\n",
      "M362K => {'credits': 3, 'cno': 'M362K', 'cname': 'Probability I'}\n",
      "M362K  => {'cno': 'M362K '}\n",
      "scohen => {'dept': 'Computer Science', 'instructor_name': 'Shirley Cohen', 'tid': 'scohen'}\n",
      "CS327E => {'cname': 'Elements of Databases', 'cno': 'CS327E', 'credits': 3}\n",
      "tran => {'tid': 'tran', 'dept': 'Mathematics', 'instructor_name': 'Ngoc Tran'}\n",
      "M358K => {'credits': 3, 'cno': 'M358K', 'cname': 'Applied Statistics'}\n",
      "M358K  => {'cno': 'M358K '}\n"
     ]
    }
   ],
   "source": [
    "instructor_ref = db.collection('instructor')\n",
    "results = instructor_ref.stream()\n",
    "\n",
    "for result in results:\n",
    "    print(f'{result.id} => {result.to_dict()}')\n",
    "    sresults = instructor_ref.document(result.id).collection('classes').stream()\n",
    "    \n",
    "    for sresult in sresults:\n",
    "        print(f'{sresult.id} => {sresult.to_dict()}')"
   ]
  },
  {
   "cell_type": "code",
   "execution_count": null,
   "metadata": {},
   "outputs": [],
   "source": []
  }
 ],
 "metadata": {
  "environment": {
   "name": "common-cpu.mnightly-2021-01-20-debian-10-test",
   "type": "gcloud",
   "uri": "gcr.io/deeplearning-platform-release/base-cpu:mnightly-2021-01-20-debian-10-test"
  },
  "kernelspec": {
   "display_name": "Python 3",
   "language": "python",
   "name": "python3"
  },
  "language_info": {
   "codemirror_mode": {
    "name": "ipython",
    "version": 3
   },
   "file_extension": ".py",
   "mimetype": "text/x-python",
   "name": "python",
   "nbconvert_exporter": "python",
   "pygments_lexer": "ipython3",
   "version": "3.7.9"
  }
 },
 "nbformat": 4,
 "nbformat_minor": 4
}
