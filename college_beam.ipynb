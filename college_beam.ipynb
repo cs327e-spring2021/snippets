{
 "cells": [
  {
   "cell_type": "markdown",
   "metadata": {},
   "source": [
    "### College Beam Examples"
   ]
  },
  {
   "cell_type": "code",
   "execution_count": 8,
   "metadata": {},
   "outputs": [],
   "source": [
    "dataset_id = \"college_beam\""
   ]
  },
  {
   "cell_type": "code",
   "execution_count": 9,
   "metadata": {},
   "outputs": [
    {
     "name": "stdout",
     "output_type": "stream",
     "text": [
      "Dataset 'cs327e-sp2021:college_beam' successfully created.\n"
     ]
    }
   ],
   "source": [
    "!bq --location=US mk --dataset {dataset_id}"
   ]
  },
  {
   "cell_type": "code",
   "execution_count": 10,
   "metadata": {},
   "outputs": [
    {
     "name": "stdout",
     "output_type": "stream",
     "text": [
      "Waiting on bqjob_r171e0c6c01f1ed7d_0000017928c03c4f_1 ... (0s) Current status: DONE   \n"
     ]
    }
   ],
   "source": [
    "!bq --location=US load --skip_leading_rows=1 \\\n",
    "--source_format=CSV {dataset_id}.Student 'gs://cs327e-open-access/college_beam/student.csv' \\\n",
    "sid:STRING,fname:STRING,lname:STRING,dob:STRING,status:STRING"
   ]
  },
  {
   "cell_type": "code",
   "execution_count": 11,
   "metadata": {},
   "outputs": [
    {
     "name": "stdout",
     "output_type": "stream",
     "text": [
      "Waiting on bqjob_r53e6128ae3da3cb9_0000017928c04ac6_1 ... (0s) Current status: DONE   \n"
     ]
    }
   ],
   "source": [
    "!bq --location=US load --skip_leading_rows=1 \\\n",
    "--source_format=CSV {dataset_id}.Class 'gs://cs327e-open-access/college_beam/class.csv' \\\n",
    "sid:STRING,cno:STRING,cname:STRING,credits:INTEGER,grade:STRING"
   ]
  },
  {
   "cell_type": "code",
   "execution_count": 12,
   "metadata": {},
   "outputs": [
    {
     "name": "stdout",
     "output_type": "stream",
     "text": [
      "Waiting on bqjob_r5b218bf4343feabd_0000017928c05fda_1 ... (0s) Current status: DONE   \n"
     ]
    }
   ],
   "source": [
    "!bq --location=US load --skip_leading_rows=1 \\\n",
    "--source_format=CSV {dataset_id}.Instructor 'gs://cs327e-open-access/college_beam/instructor.csv' \\\n",
    "tid:STRING,name:STRING,dept:STRING"
   ]
  },
  {
   "cell_type": "code",
   "execution_count": 13,
   "metadata": {},
   "outputs": [
    {
     "name": "stdout",
     "output_type": "stream",
     "text": [
      "Waiting on bqjob_r4c50701da51beb4b_0000017928c074a3_1 ... (0s) Current status: DONE   \n"
     ]
    }
   ],
   "source": [
    "!bq --location=US load --skip_leading_rows=1 \\\n",
    "--source_format=CSV {dataset_id}.Teaches 'gs://cs327e-open-access/college_beam/teaches.csv' \\\n",
    "tid:STRING,cno:STRING"
   ]
  },
  {
   "cell_type": "code",
   "execution_count": 14,
   "metadata": {},
   "outputs": [],
   "source": [
    "%run instructor_beam.py"
   ]
  },
  {
   "cell_type": "code",
   "execution_count": 16,
   "metadata": {},
   "outputs": [
    {
     "name": "stdout",
     "output_type": "stream",
     "text": [
      "input dob: 1999-01-03, output dob: 1999-01-03\n",
      "input dob: 04/22/1998, output dob: 1998-04-22\n",
      "input dob: 09/17/2000, output dob: 2000-09-17\n",
      "input dob: 01/10/2000, output dob: 2000-01-10\n",
      "input dob: Oct-01-2001, output dob: 2001-10-01\n",
      "input dob: 2000-04-22, output dob: 2000-04-22\n",
      "input dob: May-10-1999, output dob: 1999-05-10\n",
      "input dob: 07/11/2000, output dob: 2000-07-11\n",
      "input dob: Apr-04-2000, output dob: 2000-04-04\n",
      "input dob: 08/22/2000, output dob: 2000-08-22\n",
      "input dob: 07/31/1999, output dob: 1999-07-31\n",
      "input dob: 2001-03-03, output dob: 2001-03-03\n"
     ]
    }
   ],
   "source": [
    "%run student_beam.py"
   ]
  },
  {
   "cell_type": "code",
   "execution_count": 17,
   "metadata": {},
   "outputs": [],
   "source": [
    "%run class_beam.py"
   ]
  },
  {
   "cell_type": "code",
   "execution_count": null,
   "metadata": {},
   "outputs": [],
   "source": []
  }
 ],
 "metadata": {
  "environment": {
   "name": "common-cpu.mnightly-2021-01-20-debian-10-test",
   "type": "gcloud",
   "uri": "gcr.io/deeplearning-platform-release/base-cpu:mnightly-2021-01-20-debian-10-test"
  },
  "kernelspec": {
   "display_name": "Python Beam",
   "language": "python",
   "name": "beam_kernel"
  },
  "language_info": {
   "codemirror_mode": {
    "name": "ipython",
    "version": 3
   },
   "file_extension": ".py",
   "mimetype": "text/x-python",
   "name": "python",
   "nbconvert_exporter": "python",
   "pygments_lexer": "ipython3",
   "version": "3.7.9"
  }
 },
 "nbformat": 4,
 "nbformat_minor": 4
}
