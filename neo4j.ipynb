{
 "cells": [
  {
   "cell_type": "markdown",
   "metadata": {},
   "source": [
    "### Use Neo4j to create a movie graph and run some queries on it"
   ]
  },
  {
   "cell_type": "markdown",
   "metadata": {},
   "source": [
    "#### Download the movie dataset from our GCS bucket:\n",
    "\n",
    "`gsutil cp gs://cs327e-open-access/movies.cypher.zip .`<br>\n",
    "`unzip movies.cypher.zip`"
   ]
  },
  {
   "cell_type": "code",
   "execution_count": 1,
   "metadata": {},
   "outputs": [
    {
     "name": "stdout",
     "output_type": "stream",
     "text": [
      "env: CYPHER=/home/jupyter/neo4j-community-4.1.3/bin/cypher-shell\n",
      "env: USER=neo4j\n",
      "env: PW=cs327e\n"
     ]
    }
   ],
   "source": [
    "%env CYPHER=/home/jupyter/neo4j-community-4.1.3/bin/cypher-shell\n",
    "%env USER=neo4j\n",
    "%env PW=cs327e"
   ]
  },
  {
   "cell_type": "code",
   "execution_count": 17,
   "metadata": {},
   "outputs": [],
   "source": [
    "CONNECT=\"$CYPHER -u $USER -p $PW\""
   ]
  },
  {
   "cell_type": "code",
   "execution_count": 4,
   "metadata": {},
   "outputs": [
    {
     "name": "stdout",
     "output_type": "stream",
     "text": [
      "+------------------------------------------------------------------------------------------------+\n",
      "| name     | address          | role         | requestedStatus | currentStatus | error | default |\n",
      "+------------------------------------------------------------------------------------------------+\n",
      "| \"neo4j\"  | \"localhost:7687\" | \"standalone\" | \"online\"        | \"online\"      | \"\"    | TRUE    |\n",
      "| \"system\" | \"localhost:7687\" | \"standalone\" | \"online\"        | \"online\"      | \"\"    | FALSE   |\n",
      "+------------------------------------------------------------------------------------------------+\n",
      "\n",
      "2 rows available after 0 ms, consumed after another 1 ms\n"
     ]
    }
   ],
   "source": [
    "!{CONNECT} \"SHOW DATABASES\""
   ]
  },
  {
   "cell_type": "code",
   "execution_count": 5,
   "metadata": {},
   "outputs": [
    {
     "name": "stdout",
     "output_type": "stream",
     "text": [
      "0 rows available after 5 ms, consumed after another 0 ms\n"
     ]
    }
   ],
   "source": [
    "!{CONNECT} \"MATCH (n) DETACH DELETE n\""
   ]
  },
  {
   "cell_type": "code",
   "execution_count": 6,
   "metadata": {},
   "outputs": [
    {
     "name": "stdout",
     "output_type": "stream",
     "text": [
      "+---+\n",
      "| n |\n",
      "+---+\n",
      "+---+\n",
      "\n",
      "0 rows available after 5 ms, consumed after another 0 ms\n"
     ]
    }
   ],
   "source": [
    "!{CONNECT} \"MATCH (n) RETURN n\""
   ]
  },
  {
   "cell_type": "code",
   "execution_count": 7,
   "metadata": {},
   "outputs": [
    {
     "name": "stdout",
     "output_type": "stream",
     "text": [
      "a, m, d\n",
      "(:Person {name: \"Tom Hanks\", born: 1956}), (:Movie {tagline: \"In every life there comes a time when that thing you dream becomes that thing you do\", title: \"That Thing You Do\", released: 1996}), (:Person {name: \"Tom Hanks\", born: 1956})\n",
      "(:Person {name: \"Tom Hanks\", born: 1956}), (:Movie {tagline: \"Once in a lifetime you get a chance to do something different.\", title: \"A League of Their Own\", released: 1992}), (:Person {name: \"Penny Marshall\", born: 1943})\n",
      "(:Person {name: \"Tom Hanks\", born: 1956}), (:Movie {tagline: \"What if someone you never met, someone you never saw, someone you never knew was the only someone for you?\", title: \"Sleepless in Seattle\", released: 1993}), (:Person {name: \"Nora Ephron\", born: 1941})\n",
      "(:Person {name: \"Tom Hanks\", born: 1956}), (:Movie {tagline: \"A stiff drink. A little mascara. A lot of nerve. Who said they couldn't bring down the Soviet empire.\", title: \"Charlie Wilson's War\", released: 2007}), (:Person {name: \"Mike Nichols\", born: 1931})\n",
      "(:Person {name: \"Tom Hanks\", born: 1956}), (:Movie {tagline: \"At the edge of the world, his journey begins.\", title: \"Cast Away\", released: 2000}), (:Person {name: \"Robert Zemeckis\", born: 1951})\n",
      "(:Person {name: \"Tom Hanks\", born: 1956}), (:Movie {tagline: \"Walk a mile you'll never forget.\", title: \"The Green Mile\", released: 1999}), (:Person {name: \"Frank Darabont\", born: 1959})\n",
      "(:Person {name: \"Tom Hanks\", born: 1956}), (:Movie {tagline: \"Break The Codes\", title: \"The Da Vinci Code\", released: 2006}), (:Person {name: \"Ron Howard\", born: 1954})\n",
      "(:Person {name: \"Tom Hanks\", born: 1956}), (:Movie {tagline: \"This Holiday Season... Believe\", title: \"The Polar Express\", released: 2004}), (:Person {name: \"Robert Zemeckis\", born: 1951})\n",
      "(:Person {name: \"Tom Hanks\", born: 1956}), (:Movie {tagline: \"A story of love, lava and burning desire.\", title: \"Joe Versus the Volcano\", released: 1990}), (:Person {name: \"John Patrick Stanley\", born: 1950})\n",
      "(:Person {name: \"Tom Hanks\", born: 1956}), (:Movie {tagline: \"Everything is connected\", title: \"Cloud Atlas\", released: 2012}), (:Person {name: \"Tom Tykwer\", born: 1965})\n"
     ]
    }
   ],
   "source": [
    "!cat /home/jupyter/movies.cypher | {CONNECT} --format plain"
   ]
  },
  {
   "cell_type": "code",
   "execution_count": 11,
   "metadata": {},
   "outputs": [
    {
     "name": "stdout",
     "output_type": "stream",
     "text": [
      "+-----------------------+\n",
      "| labels(n)  | count(n) |\n",
      "+-----------------------+\n",
      "| [\"Movie\"]  | 38       |\n",
      "| [\"Person\"] | 133      |\n",
      "+-----------------------+\n",
      "\n",
      "2 rows available after 14 ms, consumed after another 1 ms\n"
     ]
    }
   ],
   "source": [
    "!{CONNECT} \"MATCH (n) RETURN distinct labels(n), count(n)\""
   ]
  },
  {
   "cell_type": "code",
   "execution_count": 12,
   "metadata": {},
   "outputs": [
    {
     "name": "stdout",
     "output_type": "stream",
     "text": [
      "+--------------------------------------------------------------------------------------+\n",
      "| n                                                                                    |\n",
      "+--------------------------------------------------------------------------------------+\n",
      "| (:Movie {tagline: \"Welcome to the Real World\", title: \"The Matrix\", released: 1999}) |\n",
      "| (:Person {name: \"Keanu Reeves\", born: 1964})                                         |\n",
      "| (:Person {name: \"Carrie-Anne Moss\", born: 1967})                                     |\n",
      "| (:Person {name: \"Laurence Fishburne\", born: 1961})                                   |\n",
      "| (:Person {name: \"Hugo Weaving\", born: 1960})                                         |\n",
      "| (:Person {name: \"Lilly Wachowski\", born: 1967})                                      |\n",
      "| (:Person {name: \"Lana Wachowski\", born: 1965})                                       |\n",
      "| (:Person {name: \"Joel Silver\", born: 1952})                                          |\n",
      "| (:Person {name: \"Emil Eifrem\", born: 1978})                                          |\n",
      "| (:Movie {tagline: \"Free your mind\", title: \"The Matrix Reloaded\", released: 2003})   |\n",
      "+--------------------------------------------------------------------------------------+\n",
      "\n",
      "10 rows available after 8 ms, consumed after another 1 ms\n"
     ]
    }
   ],
   "source": [
    "!{CONNECT} \"MATCH (n) RETURN n LIMIT 10\""
   ]
  },
  {
   "cell_type": "code",
   "execution_count": 13,
   "metadata": {},
   "outputs": [
    {
     "name": "stdout",
     "output_type": "stream",
     "text": [
      "+------------------------------------------------+\n",
      "| m.title                           | m.released |\n",
      "+------------------------------------------------+\n",
      "| \"One Flew Over the Cuckoo's Nest\" | 1975       |\n",
      "| \"Top Gun\"                         | 1986       |\n",
      "| \"Stand By Me\"                     | 1986       |\n",
      "| \"Joe Versus the Volcano\"          | 1990       |\n",
      "| \"A League of Their Own\"           | 1992       |\n",
      "| \"A Few Good Men\"                  | 1992       |\n",
      "| \"Unforgiven\"                      | 1992       |\n",
      "| \"Hoffa\"                           | 1992       |\n",
      "| \"Sleepless in Seattle\"            | 1993       |\n",
      "| \"Apollo 13\"                       | 1995       |\n",
      "+------------------------------------------------+\n",
      "\n",
      "10 rows available after 14 ms, consumed after another 2 ms\n"
     ]
    }
   ],
   "source": [
    "!{CONNECT} \"MATCH (m:Movie) RETURN m.title, m.released ORDER BY m.released LIMIT 10\""
   ]
  },
  {
   "cell_type": "code",
   "execution_count": 20,
   "metadata": {},
   "outputs": [
    {
     "name": "stdout",
     "output_type": "stream",
     "text": [
      "+---------------------------------------+\n",
      "| m.title                  | m.released |\n",
      "+---------------------------------------+\n",
      "| \"Joe Versus the Volcano\" | 1990       |\n",
      "| \"A Few Good Men\"         | 1992       |\n",
      "| \"Unforgiven\"             | 1992       |\n",
      "| \"Hoffa\"                  | 1992       |\n",
      "| \"A League of Their Own\"  | 1992       |\n",
      "| \"Sleepless in Seattle\"   | 1993       |\n",
      "| \"Johnny Mnemonic\"        | 1995       |\n",
      "| \"Apollo 13\"              | 1995       |\n",
      "| \"That Thing You Do\"      | 1996       |\n",
      "| \"The Birdcage\"           | 1996       |\n",
      "| \"Twister\"                | 1996       |\n",
      "| \"The Devil's Advocate\"   | 1997       |\n",
      "| \"As Good as It Gets\"     | 1997       |\n",
      "| \"What Dreams May Come\"   | 1998       |\n",
      "| \"You've Got Mail\"        | 1998       |\n",
      "| \"When Harry Met Sally\"   | 1998       |\n",
      "| \"The Matrix\"             | 1999       |\n",
      "| \"Snow Falling on Cedars\" | 1999       |\n",
      "| \"The Green Mile\"         | 1999       |\n",
      "| \"Bicentennial Man\"       | 1999       |\n",
      "| \"Jerry Maguire\"          | 2000       |\n",
      "| \"The Replacements\"       | 2000       |\n",
      "| \"Cast Away\"              | 2000       |\n",
      "+---------------------------------------+\n",
      "\n",
      "23 rows available after 1 ms, consumed after another 2 ms\n"
     ]
    }
   ],
   "source": [
    "!{CONNECT} \"MATCH (m:Movie) WHERE m.released >= 1990 AND m.released <= 2000 RETURN m.title, m.released ORDER BY m.released\""
   ]
  },
  {
   "cell_type": "code",
   "execution_count": 24,
   "metadata": {},
   "outputs": [
    {
     "name": "stdout",
     "output_type": "stream",
     "text": [
      "+--------------------------------------------------------------------------------------------------------------+\n",
      "| p                                                 | r                                                        |\n",
      "+--------------------------------------------------------------------------------------------------------------+\n",
      "| (:Person {name: \"Jerry O'Connell\", born: 1974})   | [:ACTED_IN {roles: [\"Frank Cushman\"]}]                   |\n",
      "| (:Person {name: \"Cameron Crowe\", born: 1957})     | [:PRODUCED]                                              |\n",
      "| (:Person {name: \"Bonnie Hunt\", born: 1961})       | [:ACTED_IN {roles: [\"Laurel Boyd\"]}]                     |\n",
      "| (:Person {name: \"Cameron Crowe\", born: 1957})     | [:DIRECTED]                                              |\n",
      "| (:Person {name: \"Jay Mohr\", born: 1970})          | [:ACTED_IN {roles: [\"Bob Sugar\"]}]                       |\n",
      "| (:Person {name: \"Cameron Crowe\", born: 1957})     | [:WROTE]                                                 |\n",
      "| (:Person {name: \"Cuba Gooding Jr.\", born: 1968})  | [:ACTED_IN {roles: [\"Rod Tidwell\"]}]                     |\n",
      "| (:Person {name: \"Jessica Thompson\"})              | [:REVIEWED {summary: \"You had me at Jerry\", rating: 92}] |\n",
      "| (:Person {name: \"Jonathan Lipnicki\", born: 1996}) | [:ACTED_IN {roles: [\"Ray Boyd\"]}]                        |\n",
      "| (:Person {name: \"Renee Zellweger\", born: 1969})   | [:ACTED_IN {roles: [\"Dorothy Boyd\"]}]                    |\n",
      "| (:Person {name: \"Kelly Preston\", born: 1962})     | [:ACTED_IN {roles: [\"Avery Bishop\"]}]                    |\n",
      "| (:Person {name: \"Regina King\", born: 1971})       | [:ACTED_IN {roles: [\"Marcee Tidwell\"]}]                  |\n",
      "| (:Person {name: \"Tom Cruise\", born: 1962})        | [:ACTED_IN {roles: [\"Jerry Maguire\"]}]                   |\n",
      "+--------------------------------------------------------------------------------------------------------------+\n",
      "\n",
      "13 rows available after 7 ms, consumed after another 2 ms\n"
     ]
    }
   ],
   "source": [
    "!$CYPHER -u $USER -p $PW \"MATCH (p:Person)-[r]->(m:Movie {title: 'Jerry Maguire'}) RETURN p, r LIMIT 20;\""
   ]
  },
  {
   "cell_type": "code",
   "execution_count": 25,
   "metadata": {},
   "outputs": [
    {
     "name": "stdout",
     "output_type": "stream",
     "text": [
      "+---------------------------------------+\n",
      "| m.title                  | m.released |\n",
      "+---------------------------------------+\n",
      "| \"Joe Versus the Volcano\" | 1990       |\n",
      "| \"A League of Their Own\"  | 1992       |\n",
      "| \"Sleepless in Seattle\"   | 1993       |\n",
      "| \"Apollo 13\"              | 1995       |\n",
      "| \"That Thing You Do\"      | 1996       |\n",
      "| \"You've Got Mail\"        | 1998       |\n",
      "| \"The Green Mile\"         | 1999       |\n",
      "| \"Cast Away\"              | 2000       |\n",
      "| \"The Polar Express\"      | 2004       |\n",
      "| \"The Da Vinci Code\"      | 2006       |\n",
      "| \"Charlie Wilson's War\"   | 2007       |\n",
      "| \"Cloud Atlas\"            | 2012       |\n",
      "+---------------------------------------+\n",
      "\n",
      "12 rows available after 24 ms, consumed after another 2 ms\n"
     ]
    }
   ],
   "source": [
    "!{CONNECT} \"MATCH (t:Person {{name: 'Tom Hanks'}})-[:ACTED_IN]->(m) RETURN m.title, m.released ORDER BY m.released\""
   ]
  },
  {
   "cell_type": "code",
   "execution_count": 26,
   "metadata": {},
   "outputs": [
    {
     "name": "stdout",
     "output_type": "stream",
     "text": [
      "+--------------+\n",
      "| d.name       |\n",
      "+--------------+\n",
      "| \"Ron Howard\" |\n",
      "+--------------+\n",
      "\n",
      "1 row available after 13 ms, consumed after another 1 ms\n"
     ]
    }
   ],
   "source": [
    "!{CONNECT} \"MATCH (m {{title: 'Apollo 13'}})<-[:DIRECTED]-(d) RETURN d.name\""
   ]
  },
  {
   "cell_type": "code",
   "execution_count": 27,
   "metadata": {},
   "outputs": [
    {
     "name": "stdout",
     "output_type": "stream",
     "text": [
      "+-----------------------------------------------------+\n",
      "| coactor                  | m.title                  |\n",
      "+-----------------------------------------------------+\n",
      "| \"Audrey Tautou\"          | \"The Da Vinci Code\"      |\n",
      "| \"Bill Paxton\"            | \"Apollo 13\"              |\n",
      "| \"Bill Paxton\"            | \"A League of Their Own\"  |\n",
      "| \"Bill Pullman\"           | \"Sleepless in Seattle\"   |\n",
      "| \"Bonnie Hunt\"            | \"The Green Mile\"         |\n",
      "| \"Charlize Theron\"        | \"That Thing You Do\"      |\n",
      "| \"Dave Chappelle\"         | \"You've Got Mail\"        |\n",
      "| \"David Morse\"            | \"The Green Mile\"         |\n",
      "| \"Ed Harris\"              | \"Apollo 13\"              |\n",
      "| \"Gary Sinise\"            | \"Apollo 13\"              |\n",
      "| \"Gary Sinise\"            | \"The Green Mile\"         |\n",
      "| \"Geena Davis\"            | \"A League of Their Own\"  |\n",
      "| \"Greg Kinnear\"           | \"You've Got Mail\"        |\n",
      "| \"Halle Berry\"            | \"Cloud Atlas\"            |\n",
      "| \"Helen Hunt\"             | \"Cast Away\"              |\n",
      "| \"Hugo Weaving\"           | \"Cloud Atlas\"            |\n",
      "| \"Ian McKellen\"           | \"The Da Vinci Code\"      |\n",
      "| \"James Cromwell\"         | \"The Green Mile\"         |\n",
      "| \"Jim Broadbent\"          | \"Cloud Atlas\"            |\n",
      "| \"Julia Roberts\"          | \"Charlie Wilson's War\"   |\n",
      "| \"Kevin Bacon\"            | \"Apollo 13\"              |\n",
      "| \"Liv Tyler\"              | \"That Thing You Do\"      |\n",
      "| \"Lori Petty\"             | \"A League of Their Own\"  |\n",
      "| \"Madonna\"                | \"A League of Their Own\"  |\n",
      "| \"Meg Ryan\"               | \"You've Got Mail\"        |\n",
      "| \"Meg Ryan\"               | \"Joe Versus the Volcano\" |\n",
      "| \"Meg Ryan\"               | \"Sleepless in Seattle\"   |\n",
      "| \"Michael Clarke Duncan\"  | \"The Green Mile\"         |\n",
      "| \"Nathan Lane\"            | \"Joe Versus the Volcano\" |\n",
      "| \"Parker Posey\"           | \"You've Got Mail\"        |\n",
      "| \"Patricia Clarkson\"      | \"The Green Mile\"         |\n",
      "| \"Paul Bettany\"           | \"The Da Vinci Code\"      |\n",
      "| \"Philip Seymour Hoffman\" | \"Charlie Wilson's War\"   |\n",
      "| \"Rita Wilson\"            | \"Sleepless in Seattle\"   |\n",
      "| \"Rosie O'Donnell\"        | \"A League of Their Own\"  |\n",
      "| \"Rosie O'Donnell\"        | \"Sleepless in Seattle\"   |\n",
      "| \"Sam Rockwell\"           | \"The Green Mile\"         |\n",
      "| \"Steve Zahn\"             | \"You've Got Mail\"        |\n",
      "| \"Victor Garber\"          | \"Sleepless in Seattle\"   |\n",
      "+-----------------------------------------------------+\n",
      "\n",
      "39 rows available after 48 ms, consumed after another 3 ms\n"
     ]
    }
   ],
   "source": [
    "!{CONNECT} \"MATCH (p1:Person {{name:'Tom Hanks'}})-[:ACTED_IN]->(m)<-[:ACTED_IN]-(p2:Person) RETURN p2.name as coactor, m.title ORDER BY p2.name\""
   ]
  },
  {
   "cell_type": "code",
   "execution_count": 28,
   "metadata": {},
   "outputs": [
    {
     "name": "stdout",
     "output_type": "stream",
     "text": [
      "+-------------------------------------------------------+\n",
      "| p.name              | Type(r)    | r.roles            |\n",
      "+-------------------------------------------------------+\n",
      "| \"Jerry O'Connell\"   | \"ACTED_IN\" | [\"Frank Cushman\"]  |\n",
      "| \"Cameron Crowe\"     | \"PRODUCED\" | NULL               |\n",
      "| \"Bonnie Hunt\"       | \"ACTED_IN\" | [\"Laurel Boyd\"]    |\n",
      "| \"Cameron Crowe\"     | \"DIRECTED\" | NULL               |\n",
      "| \"Jay Mohr\"          | \"ACTED_IN\" | [\"Bob Sugar\"]      |\n",
      "| \"Cameron Crowe\"     | \"WROTE\"    | NULL               |\n",
      "| \"Cuba Gooding Jr.\"  | \"ACTED_IN\" | [\"Rod Tidwell\"]    |\n",
      "| \"Jessica Thompson\"  | \"REVIEWED\" | NULL               |\n",
      "| \"Jonathan Lipnicki\" | \"ACTED_IN\" | [\"Ray Boyd\"]       |\n",
      "| \"Renee Zellweger\"   | \"ACTED_IN\" | [\"Dorothy Boyd\"]   |\n",
      "| \"Kelly Preston\"     | \"ACTED_IN\" | [\"Avery Bishop\"]   |\n",
      "| \"Regina King\"       | \"ACTED_IN\" | [\"Marcee Tidwell\"] |\n",
      "| \"Tom Cruise\"        | \"ACTED_IN\" | [\"Jerry Maguire\"]  |\n",
      "+-------------------------------------------------------+\n",
      "\n",
      "13 rows available after 21 ms, consumed after another 1 ms\n"
     ]
    }
   ],
   "source": [
    "!{CONNECT} \"MATCH (p:Person)-[r]-(:Movie {{title: 'Jerry Maguire'}}) RETURN p.name, Type(r), r.roles\""
   ]
  },
  {
   "cell_type": "code",
   "execution_count": 29,
   "metadata": {},
   "outputs": [
    {
     "name": "stdout",
     "output_type": "stream",
     "text": [
      "+-------------------------------------------------------+\n",
      "| p.name              | type(r)    | r.roles            |\n",
      "+-------------------------------------------------------+\n",
      "| \"Jerry O'Connell\"   | \"ACTED_IN\" | [\"Frank Cushman\"]  |\n",
      "| \"Bonnie Hunt\"       | \"ACTED_IN\" | [\"Laurel Boyd\"]    |\n",
      "| \"Jay Mohr\"          | \"ACTED_IN\" | [\"Bob Sugar\"]      |\n",
      "| \"Cuba Gooding Jr.\"  | \"ACTED_IN\" | [\"Rod Tidwell\"]    |\n",
      "| \"Jonathan Lipnicki\" | \"ACTED_IN\" | [\"Ray Boyd\"]       |\n",
      "| \"Renee Zellweger\"   | \"ACTED_IN\" | [\"Dorothy Boyd\"]   |\n",
      "| \"Kelly Preston\"     | \"ACTED_IN\" | [\"Avery Bishop\"]   |\n",
      "| \"Regina King\"       | \"ACTED_IN\" | [\"Marcee Tidwell\"] |\n",
      "| \"Tom Cruise\"        | \"ACTED_IN\" | [\"Jerry Maguire\"]  |\n",
      "+-------------------------------------------------------+\n",
      "\n",
      "9 rows available after 23 ms, consumed after another 2 ms\n"
     ]
    }
   ],
   "source": [
    "!{CONNECT} \"MATCH (p:Person)-[r:ACTED_IN]-(:Movie {{title: 'Jerry Maguire'}}) RETURN p.name, type(r), r.roles\""
   ]
  },
  {
   "cell_type": "code",
   "execution_count": 30,
   "metadata": {},
   "outputs": [
    {
     "name": "stdout",
     "output_type": "stream",
     "text": [
      "+------------------------------------------------------------------+\n",
      "| m.title          | kb_role    | p2.name             | type(r2)   |\n",
      "+------------------------------------------------------------------+\n",
      "| \"Apollo 13\"      | \"ACTED_IN\" | \"Tom Hanks\"         | \"ACTED_IN\" |\n",
      "| \"Apollo 13\"      | \"ACTED_IN\" | \"Ron Howard\"        | \"DIRECTED\" |\n",
      "| \"Apollo 13\"      | \"ACTED_IN\" | \"Ed Harris\"         | \"ACTED_IN\" |\n",
      "| \"Apollo 13\"      | \"ACTED_IN\" | \"Gary Sinise\"       | \"ACTED_IN\" |\n",
      "| \"Apollo 13\"      | \"ACTED_IN\" | \"Bill Paxton\"       | \"ACTED_IN\" |\n",
      "| \"Frost/Nixon\"    | \"ACTED_IN\" | \"Sam Rockwell\"      | \"ACTED_IN\" |\n",
      "| \"Frost/Nixon\"    | \"ACTED_IN\" | \"Michael Sheen\"     | \"ACTED_IN\" |\n",
      "| \"Frost/Nixon\"    | \"ACTED_IN\" | \"Ron Howard\"        | \"DIRECTED\" |\n",
      "| \"Frost/Nixon\"    | \"ACTED_IN\" | \"Frank Langella\"    | \"ACTED_IN\" |\n",
      "| \"Frost/Nixon\"    | \"ACTED_IN\" | \"Oliver Platt\"      | \"ACTED_IN\" |\n",
      "| \"A Few Good Men\" | \"ACTED_IN\" | \"James Marshall\"    | \"ACTED_IN\" |\n",
      "| \"A Few Good Men\" | \"ACTED_IN\" | \"Kevin Pollak\"      | \"ACTED_IN\" |\n",
      "| \"A Few Good Men\" | \"ACTED_IN\" | \"J.T. Walsh\"        | \"ACTED_IN\" |\n",
      "| \"A Few Good Men\" | \"ACTED_IN\" | \"Aaron Sorkin\"      | \"ACTED_IN\" |\n",
      "| \"A Few Good Men\" | \"ACTED_IN\" | \"Cuba Gooding Jr.\"  | \"ACTED_IN\" |\n",
      "| \"A Few Good Men\" | \"ACTED_IN\" | \"Christopher Guest\" | \"ACTED_IN\" |\n",
      "| \"A Few Good Men\" | \"ACTED_IN\" | \"Aaron Sorkin\"      | \"WROTE\"    |\n",
      "| \"A Few Good Men\" | \"ACTED_IN\" | \"Rob Reiner\"        | \"DIRECTED\" |\n",
      "| \"A Few Good Men\" | \"ACTED_IN\" | \"Noah Wyle\"         | \"ACTED_IN\" |\n",
      "| \"A Few Good Men\" | \"ACTED_IN\" | \"Kiefer Sutherland\" | \"ACTED_IN\" |\n",
      "+------------------------------------------------------------------+\n",
      "\n",
      "20 rows available after 30 ms, consumed after another 1 ms\n"
     ]
    }
   ],
   "source": [
    "!{CONNECT} \"MATCH (p1:Person {{name: 'Kevin Bacon'}})-[r]-(m:Movie)-[r2]-(p2:Person) RETURN m.title, type(r) as kb_role, p2.name, type(r2) LIMIT 20\""
   ]
  },
  {
   "cell_type": "code",
   "execution_count": 31,
   "metadata": {},
   "outputs": [
    {
     "name": "stdout",
     "output_type": "stream",
     "text": [
      "+-----------------------------------------------------------------------------------------------------+\n",
      "| kb_connections                                                                                      |\n",
      "+-----------------------------------------------------------------------------------------------------+\n",
      "| (:Person {name: \"Nora Ephron\", born: 1941})                                                         |\n",
      "| (:Person {name: \"Parker Posey\", born: 1968})                                                        |\n",
      "| (:Person {name: \"Greg Kinnear\", born: 1963})                                                        |\n",
      "| (:Person {name: \"Meg Ryan\", born: 1961})                                                            |\n",
      "| (:Person {name: \"Steve Zahn\", born: 1967})                                                          |\n",
      "| (:Person {name: \"Dave Chappelle\", born: 1973})                                                      |\n",
      "| (:Movie {tagline: \"At odds in life... in love on-line.\", title: \"You've Got Mail\", released: 1998}) |\n",
      "| (:Person {name: \"Madonna\", born: 1954})                                                             |\n",
      "| (:Person {name: \"Penny Marshall\", born: 1943})                                                      |\n",
      "| (:Person {name: \"Rosie O'Donnell\", born: 1962})                                                     |\n",
      "+-----------------------------------------------------------------------------------------------------+\n",
      "\n",
      "10 rows available after 20 ms, consumed after another 5 ms\n"
     ]
    }
   ],
   "source": [
    "!{CONNECT} \"MATCH (p:Person {{name: 'Kevin Bacon'}})-[*1..4]-(kb_connections) RETURN DISTINCT kb_connections LIMIT 10\""
   ]
  },
  {
   "cell_type": "code",
   "execution_count": 32,
   "metadata": {},
   "outputs": [
    {
     "name": "stdout",
     "output_type": "stream",
     "text": [
      "+-------------------------------------------------------------------------------------------------------------------------------------------------------------------------------------------------------------------------------------------------------------------------------------------------------------------------------------------------------------------------------------------------------------------------------------------------------------------------------------------------------------------------------------------------------------------------------------------------------------------------+\n",
      "| p                                                                                                                                                                                                                                                                                                                                                                                                                                                                                                                                                                                                                       |\n",
      "+-------------------------------------------------------------------------------------------------------------------------------------------------------------------------------------------------------------------------------------------------------------------------------------------------------------------------------------------------------------------------------------------------------------------------------------------------------------------------------------------------------------------------------------------------------------------------------------------------------------------------+\n",
      "| (:Person {name: \"Kevin Bacon\", born: 1958})-[:ACTED_IN {roles: [\"Capt. Jack Ross\"]}]->(:Movie {tagline: \"In the heart of the nation's capital, in a courthouse of the U.S. government, one man will stop at nothing to keep his honor, and one will stop at nothing to find the truth.\", title: \"A Few Good Men\", released: 1992})<-[:ACTED_IN {roles: [\"Col. Nathan R. Jessup\"]}]-(:Person {name: \"Jack Nicholson\", born: 1937})-[:ACTED_IN {roles: [\"Harry Sanborn\"]}]->(:Movie {title: \"Something's Gotta Give\", released: 2003})<-[:ACTED_IN {roles: [\"Erica Barry\"]}]-(:Person {name: \"Diane Keaton\", born: 1946}) |\n",
      "+-------------------------------------------------------------------------------------------------------------------------------------------------------------------------------------------------------------------------------------------------------------------------------------------------------------------------------------------------------------------------------------------------------------------------------------------------------------------------------------------------------------------------------------------------------------------------------------------------------------------------+\n",
      "\n",
      "1 row available after 40 ms, consumed after another 19 ms\n"
     ]
    }
   ],
   "source": [
    "!{CONNECT} \"MATCH p=shortestPath((bacon:Person {{name:'Kevin Bacon'}})-[*]-(keaton:Person {{name: 'Diane Keaton'}})) RETURN p\""
   ]
  },
  {
   "cell_type": "markdown",
   "metadata": {},
   "source": [
    "#### Unfortunately, the Community Edition doesn't let us create multiple databases. You'll need to delete the movie graph before creating a different graph in our database. To delete the graph, use this command:\n",
    "\n",
    "`!{CONNECT} \"MATCH (n) DETACH DELETE n\"`"
   ]
  },
  {
   "cell_type": "code",
   "execution_count": 33,
   "metadata": {},
   "outputs": [
    {
     "name": "stdout",
     "output_type": "stream",
     "text": [
      "0 rows available after 24 ms, consumed after another 0 ms\n",
      "Deleted 171 nodes, Deleted 253 relationships\n"
     ]
    }
   ],
   "source": [
    "!{CONNECT} \"MATCH (n) DETACH DELETE n\""
   ]
  },
  {
   "cell_type": "code",
   "execution_count": 34,
   "metadata": {},
   "outputs": [
    {
     "name": "stdout",
     "output_type": "stream",
     "text": [
      "+---+\n",
      "| n |\n",
      "+---+\n",
      "+---+\n",
      "\n",
      "0 rows available after 1 ms, consumed after another 0 ms\n"
     ]
    }
   ],
   "source": [
    "!{CONNECT} \"MATCH (n) RETURN n\""
   ]
  },
  {
   "cell_type": "code",
   "execution_count": null,
   "metadata": {},
   "outputs": [],
   "source": []
  }
 ],
 "metadata": {
  "environment": {
   "name": "common-cpu.mnightly-2021-01-20-debian-10-test",
   "type": "gcloud",
   "uri": "gcr.io/deeplearning-platform-release/base-cpu:mnightly-2021-01-20-debian-10-test"
  },
  "kernelspec": {
   "display_name": "Python 3",
   "language": "python",
   "name": "python3"
  },
  "language_info": {
   "codemirror_mode": {
    "name": "ipython",
    "version": 3
   },
   "file_extension": ".py",
   "mimetype": "text/x-python",
   "name": "python",
   "nbconvert_exporter": "python",
   "pygments_lexer": "ipython3",
   "version": "3.7.9"
  }
 },
 "nbformat": 4,
 "nbformat_minor": 4
}
